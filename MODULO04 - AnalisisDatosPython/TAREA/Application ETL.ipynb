{
 "cells": [
  {
   "cell_type": "markdown",
   "metadata": {},
   "source": [
    "Librerias necesarias: <br>\n",
    "<ul>\n",
    "    <li>\n",
    "        pip install ipykernel\n",
    "    </li>\n",
    "    <li>\n",
    "        pip install pandas\n",
    "    </li>\n",
    "    <li>\n",
    "        pip install SQLAlchemy\n",
    "    </li>\n",
    "        <li>\n",
    "        pip install pymysql\n",
    "    </li>\n",
    "    </li>\n",
    "    <li>\n",
    "        pip install cryptography\n",
    "    </li>\n",
    "</ul>"
   ]
  },
  {
   "cell_type": "code",
   "execution_count": 14,
   "metadata": {},
   "outputs": [],
   "source": [
    "import pandas as pd\n",
    "import sqlalchemy as db\n",
    "\n",
    "from sqlalchemy import create_engine, text"
   ]
  },
  {
   "cell_type": "code",
   "execution_count": 15,
   "metadata": {},
   "outputs": [],
   "source": [
    "# Reemplaza con tus credenciales y detalles de conexión\n",
    "usuario = 'user'\n",
    "contraseña = 'user'\n",
    "host = 'localhost'\n",
    "puerto = '3306'\n",
    "nombre_basedatos = 'db_movies_awards'\n",
    "\n",
    "# Crear la cadena de conexión\n",
    "conexion_url = f\"mysql+pymysql://{usuario}:{contraseña}@{host}:{puerto}/{nombre_basedatos}\"\n",
    "\n",
    "# Crear el engine de SQLAlchemy\n",
    "engine = create_engine(conexion_url)"
   ]
  },
  {
   "cell_type": "markdown",
   "metadata": {},
   "source": [
    "## Probar la conexión"
   ]
  },
  {
   "cell_type": "code",
   "execution_count": 16,
   "metadata": {},
   "outputs": [
    {
     "name": "stdout",
     "output_type": "stream",
     "text": [
      "Conexión exitosa\n"
     ]
    }
   ],
   "source": [
    "connection = None\n",
    "try:\n",
    "    # Abre una conexión\n",
    "    connection = engine.connect()\n",
    "    result = connection.execute(text(\"SELECT * FROM dim_movie\"))\n",
    "    for row in result:\n",
    "        print(row)\n",
    "    print(\"Conexión exitosa\")\n",
    "except Exception as e:\n",
    "    print(\"Error de conexión:\", e)\n",
    "finally:\n",
    "    # Cierra la conexión manualmente si fue abierta\n",
    "    if connection:\n",
    "        connection.close()"
   ]
  },
  {
   "cell_type": "markdown",
   "metadata": {},
   "source": [
    "#   Aplicación de un proceso ETL con Python y MySQL"
   ]
  },
  {
   "cell_type": "markdown",
   "metadata": {},
   "source": [
    "##  Cargamos datos en la Dim Movie"
   ]
  },
  {
   "cell_type": "code",
   "execution_count": 31,
   "metadata": {},
   "outputs": [
    {
     "data": {
      "text/html": [
       "<div>\n",
       "<style scoped>\n",
       "    .dataframe tbody tr th:only-of-type {\n",
       "        vertical-align: middle;\n",
       "    }\n",
       "\n",
       "    .dataframe tbody tr th {\n",
       "        vertical-align: top;\n",
       "    }\n",
       "\n",
       "    .dataframe thead th {\n",
       "        text-align: right;\n",
       "    }\n",
       "</style>\n",
       "<table border=\"1\" class=\"dataframe\">\n",
       "  <thead>\n",
       "    <tr style=\"text-align: right;\">\n",
       "      <th></th>\n",
       "      <th>movieID</th>\n",
       "      <th>IdAward</th>\n",
       "      <th>Aware</th>\n",
       "    </tr>\n",
       "  </thead>\n",
       "  <tbody>\n",
       "    <tr>\n",
       "      <th>0</th>\n",
       "      <td>80210920</td>\n",
       "      <td>0</td>\n",
       "      <td>Oscar</td>\n",
       "    </tr>\n",
       "    <tr>\n",
       "      <th>1</th>\n",
       "      <td>81157374</td>\n",
       "      <td>1</td>\n",
       "      <td>Grammy</td>\n",
       "    </tr>\n",
       "    <tr>\n",
       "      <th>2</th>\n",
       "      <td>80192187</td>\n",
       "      <td>2</td>\n",
       "      <td>Oscar</td>\n",
       "    </tr>\n",
       "  </tbody>\n",
       "</table>\n",
       "</div>"
      ],
      "text/plain": [
       "    movieID  IdAward   Aware\n",
       "0  80210920        0   Oscar\n",
       "1  81157374        1  Grammy\n",
       "2  80192187        2   Oscar"
      ]
     },
     "execution_count": 31,
     "metadata": {},
     "output_type": "execute_result"
    }
   ],
   "source": [
    "df_movie = pd.read_csv(r\"C:\\Personal\\Data Engineer Program\\Datapath---Data-Engineer-Program\\MODULO04 - AnalisisDatosPython\\TAREA\\data\\Awards_movie.csv\", delimiter=\",\")\n",
    "df_movie.head()"
   ]
  },
  {
   "cell_type": "code",
   "execution_count": 23,
   "metadata": {},
   "outputs": [
    {
     "name": "stdout",
     "output_type": "stream",
     "text": [
      "<class 'pandas.core.frame.DataFrame'>\n",
      "RangeIndex: 3 entries, 0 to 2\n",
      "Data columns (total 3 columns):\n",
      " #   Column   Non-Null Count  Dtype \n",
      "---  ------   --------------  ----- \n",
      " 0   movieID  3 non-null      int64 \n",
      " 1   IdAward  3 non-null      int64 \n",
      " 2   Aware    3 non-null      object\n",
      "dtypes: int64(2), object(1)\n",
      "memory usage: 200.0+ bytes\n"
     ]
    }
   ],
   "source": [
    "df_movie.info()"
   ]
  },
  {
   "cell_type": "code",
   "execution_count": 24,
   "metadata": {},
   "outputs": [],
   "source": [
    "df_movie['IdAward'] = df_movie['IdAward'].astype(str) # Cambiar tipo de dato\n",
    "df_movie = df_movie.rename(columns={'IdAward': 'awardID', 'Aware': 'aware'}) # Renombrar columnas"
   ]
  },
  {
   "cell_type": "code",
   "execution_count": 28,
   "metadata": {},
   "outputs": [
    {
     "name": "stdout",
     "output_type": "stream",
     "text": [
      "<class 'pandas.core.frame.DataFrame'>\n",
      "RangeIndex: 3 entries, 0 to 2\n",
      "Data columns (total 3 columns):\n",
      " #   Column   Non-Null Count  Dtype \n",
      "---  ------   --------------  ----- \n",
      " 0   movieID  3 non-null      int64 \n",
      " 1   awardID  3 non-null      object\n",
      " 2   aware    3 non-null      object\n",
      "dtypes: int64(1), object(2)\n",
      "memory usage: 200.0+ bytes\n"
     ]
    }
   ],
   "source": [
    "df_movie.info()"
   ]
  },
  {
   "cell_type": "code",
   "execution_count": 25,
   "metadata": {},
   "outputs": [],
   "source": [
    "connection = engine.connect()\n",
    "df_movie.to_sql('dim_movie', connection, if_exists='append', index=False)\n",
    "connection.close()"
   ]
  },
  {
   "cell_type": "markdown",
   "metadata": {},
   "source": [
    "##  Cargamos datos en la Dim User"
   ]
  },
  {
   "cell_type": "code",
   "execution_count": 30,
   "metadata": {},
   "outputs": [
    {
     "data": {
      "text/html": [
       "<div>\n",
       "<style scoped>\n",
       "    .dataframe tbody tr th:only-of-type {\n",
       "        vertical-align: middle;\n",
       "    }\n",
       "\n",
       "    .dataframe tbody tr th {\n",
       "        vertical-align: top;\n",
       "    }\n",
       "\n",
       "    .dataframe thead th {\n",
       "        text-align: right;\n",
       "    }\n",
       "</style>\n",
       "<table border=\"1\" class=\"dataframe\">\n",
       "  <thead>\n",
       "    <tr style=\"text-align: right;\">\n",
       "      <th></th>\n",
       "      <th>idUser</th>\n",
       "      <th>username</th>\n",
       "      <th>country</th>\n",
       "      <th>subscription</th>\n",
       "    </tr>\n",
       "  </thead>\n",
       "  <tbody>\n",
       "    <tr>\n",
       "      <th>0</th>\n",
       "      <td>1002331</td>\n",
       "      <td>user123</td>\n",
       "      <td>USA</td>\n",
       "      <td>Premium</td>\n",
       "    </tr>\n",
       "    <tr>\n",
       "      <th>1</th>\n",
       "      <td>1002332</td>\n",
       "      <td>gamerGirl97</td>\n",
       "      <td>Canada</td>\n",
       "      <td>Basic</td>\n",
       "    </tr>\n",
       "    <tr>\n",
       "      <th>2</th>\n",
       "      <td>1002333</td>\n",
       "      <td>techMaster</td>\n",
       "      <td>UK</td>\n",
       "      <td>Premium</td>\n",
       "    </tr>\n",
       "    <tr>\n",
       "      <th>3</th>\n",
       "      <td>1002334</td>\n",
       "      <td>soccerFan</td>\n",
       "      <td>Brazil</td>\n",
       "      <td>Basic</td>\n",
       "    </tr>\n",
       "    <tr>\n",
       "      <th>4</th>\n",
       "      <td>1002335</td>\n",
       "      <td>travelBug</td>\n",
       "      <td>Australia</td>\n",
       "      <td>Premium</td>\n",
       "    </tr>\n",
       "  </tbody>\n",
       "</table>\n",
       "</div>"
      ],
      "text/plain": [
       "    idUser     username    country subscription\n",
       "0  1002331      user123        USA      Premium\n",
       "1  1002332  gamerGirl97     Canada        Basic\n",
       "2  1002333   techMaster         UK      Premium\n",
       "3  1002334    soccerFan     Brazil        Basic\n",
       "4  1002335    travelBug  Australia      Premium"
      ]
     },
     "execution_count": 30,
     "metadata": {},
     "output_type": "execute_result"
    }
   ],
   "source": [
    "df_users = pd.read_csv(r\"C:\\Personal\\Data Engineer Program\\Datapath---Data-Engineer-Program\\MODULO04 - AnalisisDatosPython\\TAREA\\data\\users.csv\", delimiter=\"|\")\n",
    "df_users.head()"
   ]
  },
  {
   "cell_type": "code",
   "execution_count": 32,
   "metadata": {},
   "outputs": [
    {
     "name": "stdout",
     "output_type": "stream",
     "text": [
      "<class 'pandas.core.frame.DataFrame'>\n",
      "RangeIndex: 20 entries, 0 to 19\n",
      "Data columns (total 4 columns):\n",
      " #   Column        Non-Null Count  Dtype \n",
      "---  ------        --------------  ----- \n",
      " 0   idUser        20 non-null     int64 \n",
      " 1   username      20 non-null     object\n",
      " 2   country       20 non-null     object\n",
      " 3   subscription  20 non-null     object\n",
      "dtypes: int64(1), object(3)\n",
      "memory usage: 768.0+ bytes\n"
     ]
    }
   ],
   "source": [
    "df_users.info()"
   ]
  },
  {
   "cell_type": "code",
   "execution_count": 33,
   "metadata": {},
   "outputs": [
    {
     "data": {
      "text/plain": [
       "Index(['idUser', 'username', 'country', 'subscription'], dtype='object')"
      ]
     },
     "execution_count": 33,
     "metadata": {},
     "output_type": "execute_result"
    }
   ],
   "source": [
    "df_users.columns"
   ]
  },
  {
   "cell_type": "code",
   "execution_count": 34,
   "metadata": {},
   "outputs": [],
   "source": [
    "df_users = df_users.rename(columns={'idUser': 'userID', 'username': 'user_name'}) # Renombrar columnas"
   ]
  },
  {
   "cell_type": "code",
   "execution_count": 35,
   "metadata": {},
   "outputs": [
    {
     "name": "stdout",
     "output_type": "stream",
     "text": [
      "<class 'pandas.core.frame.DataFrame'>\n",
      "RangeIndex: 20 entries, 0 to 19\n",
      "Data columns (total 4 columns):\n",
      " #   Column        Non-Null Count  Dtype \n",
      "---  ------        --------------  ----- \n",
      " 0   userID        20 non-null     int64 \n",
      " 1   user_name     20 non-null     object\n",
      " 2   country       20 non-null     object\n",
      " 3   subscription  20 non-null     object\n",
      "dtypes: int64(1), object(3)\n",
      "memory usage: 768.0+ bytes\n"
     ]
    }
   ],
   "source": [
    "df_users.info()"
   ]
  },
  {
   "cell_type": "code",
   "execution_count": 36,
   "metadata": {},
   "outputs": [],
   "source": [
    "connection = engine.connect()\n",
    "df_users.to_sql('dim_user', connection, if_exists='append', index=False)\n",
    "connection.close()"
   ]
  },
  {
   "cell_type": "markdown",
   "metadata": {},
   "source": [
    "##  Cargamos datos en la Tabla de hechos participantes"
   ]
  },
  {
   "cell_type": "code",
   "execution_count": 37,
   "metadata": {},
   "outputs": [
    {
     "data": {
      "text/html": [
       "<div>\n",
       "<style scoped>\n",
       "    .dataframe tbody tr th:only-of-type {\n",
       "        vertical-align: middle;\n",
       "    }\n",
       "\n",
       "    .dataframe tbody tr th {\n",
       "        vertical-align: top;\n",
       "    }\n",
       "\n",
       "    .dataframe thead th {\n",
       "        text-align: right;\n",
       "    }\n",
       "</style>\n",
       "<table border=\"1\" class=\"dataframe\">\n",
       "  <thead>\n",
       "    <tr style=\"text-align: right;\">\n",
       "      <th></th>\n",
       "      <th>ParticipantID</th>\n",
       "      <th>Aware</th>\n",
       "    </tr>\n",
       "  </thead>\n",
       "  <tbody>\n",
       "    <tr>\n",
       "      <th>0</th>\n",
       "      <td>72129839</td>\n",
       "      <td>Oscar</td>\n",
       "    </tr>\n",
       "    <tr>\n",
       "      <th>1</th>\n",
       "      <td>20432364</td>\n",
       "      <td>Grammy</td>\n",
       "    </tr>\n",
       "    <tr>\n",
       "      <th>2</th>\n",
       "      <td>73235434</td>\n",
       "      <td>Oscar</td>\n",
       "    </tr>\n",
       "  </tbody>\n",
       "</table>\n",
       "</div>"
      ],
      "text/plain": [
       "   ParticipantID   Aware\n",
       "0       72129839   Oscar\n",
       "1       20432364  Grammy\n",
       "2       73235434   Oscar"
      ]
     },
     "execution_count": 37,
     "metadata": {},
     "output_type": "execute_result"
    }
   ],
   "source": [
    "df_participants = pd.read_csv(r\"C:\\Personal\\Data Engineer Program\\Datapath---Data-Engineer-Program\\MODULO04 - AnalisisDatosPython\\TAREA\\data\\Awards_participants.csv\", delimiter=\",\")\n",
    "df_participants.head()"
   ]
  },
  {
   "cell_type": "code",
   "execution_count": 38,
   "metadata": {},
   "outputs": [
    {
     "name": "stdout",
     "output_type": "stream",
     "text": [
      "<class 'pandas.core.frame.DataFrame'>\n",
      "RangeIndex: 3 entries, 0 to 2\n",
      "Data columns (total 2 columns):\n",
      " #   Column         Non-Null Count  Dtype \n",
      "---  ------         --------------  ----- \n",
      " 0   ParticipantID  3 non-null      int64 \n",
      " 1   Aware          3 non-null      object\n",
      "dtypes: int64(1), object(1)\n",
      "memory usage: 176.0+ bytes\n"
     ]
    }
   ],
   "source": [
    "df_participants.info()"
   ]
  },
  {
   "cell_type": "code",
   "execution_count": 39,
   "metadata": {},
   "outputs": [],
   "source": [
    "connection = engine.connect()\n",
    "df_participants.to_sql('participants', connection, if_exists='append', index=False)\n",
    "connection.close()"
   ]
  }
 ],
 "metadata": {
  "kernelspec": {
   "display_name": "Python 3 (ipykernel)",
   "language": "python",
   "name": "python3"
  },
  "language_info": {
   "codemirror_mode": {
    "name": "ipython",
    "version": 3
   },
   "file_extension": ".py",
   "mimetype": "text/x-python",
   "name": "python",
   "nbconvert_exporter": "python",
   "pygments_lexer": "ipython3",
   "version": "3.10.11"
  }
 },
 "nbformat": 4,
 "nbformat_minor": 2
}
